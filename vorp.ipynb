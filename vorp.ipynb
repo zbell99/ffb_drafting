{
 "cells": [
  {
   "cell_type": "code",
   "execution_count": null,
   "metadata": {},
   "outputs": [],
   "source": [
    "import pandas as pd\n",
    "import numpy as np"
   ]
  },
  {
   "cell_type": "code",
   "execution_count": null,
   "metadata": {},
   "outputs": [],
   "source": [
    "def calculate_vorp(num_teams = 10, roster_size = 15, \n",
    "                   num_qb = 1, num_rb = 2, num_wr = 2, num_te = 1, \n",
    "                   num_flex = 1, num_sflex = 0, num_k = 1, num_def = 1, \n",
    "                   pp_pass = 0, pp_passyd = 0.04, pp_passtd = 4, pp_pick = -2, pp_fum = -2,\n",
    "                   pp_rushyd = 0.1, pp_rushtd = 6, \n",
    "                   pp_rec = 0.5, pp_recyd = 0.1, pp_rectd = 6, te_premium = 0,\n",
    "                   pp_fg = 3, pp_fg40 = 1, pp_fg50 = 2, pp_xp = 1, pp_missfg = -1, pp_missxp = -1,\n",
    "                   pp_defint = 2, pp_deffum = 2, pp_deftd = 6, pp_defpa = -1, pp_defya = -0.1, pp_defsack = 1, pp_defsafe = 2, pp_defblock = 2,\n",
    "                   ):\n",
    "    # df from csv\n",
    "    position_data = pd.read_csv('data/position_data.csv')\n",
    "    defense_data = pd.read_csv('data/defense_data.csv')\n",
    "    kicker_data = pd.read_csv('data/kicker_data.csv')\n",
    "    \n",
    "    # projected fantasy points for each player\n",
    "    position_data['PTS'] = position_data['PASSYDS']*pp_passyd + position_data['PASSTD']*pp_passtd + position_data['INT']*pp_pick + position_data['FUM']*pp_fum + position_data['RUSHYDS']*pp_rushyd + position_data['RUSHTD']*pp_rushtd + position_data['REC']*pp_rec + position_data['RECYDS']*pp_recyd + position_data['RECTD']*pp_rectd\n",
    "    # add in premium for TEs\n",
    "    position_data.loc[position_data['POS'] == 'TE', 'PTS'] += position_data.loc[position_data['POS'] == 'TE', 'REC']*te_premium\n",
    "\n",
    "    #TODO: add in kicker and defense points\n",
    "\n",
    "    # replacement levels (currently just doing projected num starters, maybe should do projected num rostered)\n",
    "    qb_replacement = num_teams * (num_qb + num_sflex)\n",
    "    rb_replacement = num_teams * (num_rb + 0.5*num_flex)\n",
    "    wr_replacement = num_teams * (num_wr + 0.5*num_flex)\n",
    "    te_replacement = num_teams * (num_te + 0*num_flex)\n",
    "    flex_replacement = num_teams * (num_rb + num_wr + num_te + num_flex)\n",
    "    sflex_replacement = num_teams * (num_qb + num_rb + num_wr + num_te + num_flex + num_sflex)\n",
    "    k_replacement = num_teams * num_k\n",
    "    def_replacement = num_teams * num_def\n",
    "\n",
    "    #subtract replacement level from each player\n",
    "    position_data['VORP'] = 0\n",
    "    position_data.loc[position_data['POS'] == 'QB', 'VORP'] = position_data.loc[position_data['POS'] == 'QB', 'PTS'] - position_data.loc[position_data['POS'] == 'QB', 'PTS'].nlargest(qb_replacement).min()\n",
    "    position_data.loc[position_data['POS'] == 'RB', 'VORP'] = position_data.loc[position_data['POS'] == 'RB', 'PTS'] - position_data.loc[position_data['POS'] == 'RB', 'PTS'].nlargest(rb_replacement).min()\n",
    "    position_data.loc[position_data['POS'] == 'WR', 'VORP'] = position_data.loc[position_data['POS'] == 'WR', 'PTS'] - position_data.loc[position_data['POS'] == 'WR', 'PTS'].nlargest(wr_replacement).min()\n",
    "    position_data.loc[position_data['POS'] == 'TE', 'VORP'] = position_data.loc[position_data['POS'] == 'TE', 'PTS'] - position_data.loc[position_data['POS'] == 'TE', 'PTS'].nlargest(te_replacement).min()\n",
    "\n",
    "    #flex is rb, wr, te\n",
    "    position_data['VORP_FLEX'] = 0\n",
    "    position_data.loc[position_data['POS'].isin(['RB', 'WR', 'TE']), 'VORP_FLEX'] = position_data.loc[position_data['POS'].isin(['RB', 'WR', 'TE']), 'PTS'] - position_data.loc[position_data['POS'].isin(['RB', 'WR', 'TE']), 'PTS'].nlargest(flex_replacement).min()\n",
    "\n",
    "    #superflex is qb, rb, wr, te\n",
    "    position_data['VORP_SFLEX'] = 0\n",
    "    position_data.loc[position_data['POS'].isin(['QB', 'RB', 'WR', 'TE']), 'VORP_SFLEX'] = position_data.loc[position_data['POS'].isin(['QB', 'RB', 'WR', 'TE']), 'PTS'] - position_data.loc[position_data['POS'].isin(['QB', 'RB', 'WR', 'TE']), 'PTS'].nlargest(sflex_replacement).min()\n",
    "\n",
    "    #kicker\n",
    "    kicker_data['VORP'] = kicker_data['PTS'] - kicker_data['PTS'].nlargest(k_replacement).min()\n",
    "    kicker_data['VORP_FLEX'] = 0\n",
    "    kicker_data['VORP_SFLEX'] = 0\n",
    "\n",
    "    #defense\n",
    "    defense_data['VORP'] = defense_data['PTS'] - defense_data['PTS'].nlargest(def_replacement).min()\n",
    "    defense_data['VORP_FLEX'] = 0\n",
    "    defense_data['VORP_SFLEX'] = 0\n",
    "\n",
    "    #merge all the dataframes only with name position and VORPS\n",
    "    all_data = pd.concat([position_data[['NAME', 'POS', 'VORP', 'VORP_FLEX', 'VORP_SFLEX']], kicker_data[['NAME', 'POS', 'VORP', 'VORP_FLEX', 'VORP_SFLEX']], defense_data[['NAME', 'POS', 'VORP', 'VORP_FLEX', 'VORP_SFLEX']]])\n",
    "\n",
    "    return all_data"
   ]
  }
 ],
 "metadata": {
  "kernelspec": {
   "display_name": "Python 3",
   "language": "python",
   "name": "python3"
  },
  "language_info": {
   "name": "python",
   "version": "3.10.8"
  }
 },
 "nbformat": 4,
 "nbformat_minor": 2
}
