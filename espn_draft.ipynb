{
 "cells": [
  {
   "cell_type": "code",
   "execution_count": 46,
   "metadata": {},
   "outputs": [],
   "source": [
    "import espn_scrape\n",
    "\n",
    "dm = espn_scrape.draft_monitor(\"My Team\",\"firefox\")"
   ]
  },
  {
   "cell_type": "code",
   "execution_count": 106,
   "metadata": {},
   "outputs": [],
   "source": [
    "import pandas as pd\n",
    "from selenium.webdriver.common.action_chains import ActionChains\n"
   ]
  },
  {
   "cell_type": "code",
   "execution_count": 26,
   "metadata": {},
   "outputs": [
    {
     "data": {
      "text/plain": [
       "<module 'espn_scrape' from '/Users/zachwayne/Documents/GitHub/ffb_drafting/espn_scrape.py'>"
      ]
     },
     "execution_count": 26,
     "metadata": {},
     "output_type": "execute_result"
    }
   ],
   "source": [
    "import importlib\n",
    "import espn_scrape\n",
    "importlib.reload(espn_scrape)"
   ]
  },
  {
   "cell_type": "code",
   "execution_count": 48,
   "metadata": {},
   "outputs": [
    {
     "ename": "NoSuchElementException",
     "evalue": "Message: Could not locate element with visible text: ANTHONY'S ASTOUNDING TEAM; For documentation on this error, please visit: https://www.selenium.dev/documentation/webdriver/troubleshooting/errors#no-such-element-exception\n",
     "output_type": "error",
     "traceback": [
      "\u001b[0;31m---------------------------------------------------------------------------\u001b[0m",
      "\u001b[0;31mNoSuchElementException\u001b[0m                    Traceback (most recent call last)",
      "Input \u001b[0;32mIn [48]\u001b[0m, in \u001b[0;36m<cell line: 1>\u001b[0;34m()\u001b[0m\n\u001b[0;32m----> 1\u001b[0m \u001b[43mdm\u001b[49m\u001b[38;5;241;43m.\u001b[39;49m\u001b[43mconfigure_draft\u001b[49m\u001b[43m(\u001b[49m\u001b[43m)\u001b[49m\n",
      "File \u001b[0;32m~/Documents/GitHub/ffb_drafting/espn_scrape.py:80\u001b[0m, in \u001b[0;36mdraft_monitor.configure_draft\u001b[0;34m(self)\u001b[0m\n\u001b[1;32m     69\u001b[0m \u001b[38;5;28;01mdef\u001b[39;00m \u001b[38;5;21mconfigure_draft\u001b[39m(\u001b[38;5;28mself\u001b[39m):\n\u001b[1;32m     70\u001b[0m     \u001b[38;5;124;03m\"\"\"\u001b[39;00m\n\u001b[1;32m     71\u001b[0m \u001b[38;5;124;03m    Do not run this function until your draft room is up.\u001b[39;00m\n\u001b[1;32m     72\u001b[0m \u001b[38;5;124;03m    \u001b[39;00m\n\u001b[0;32m   (...)\u001b[0m\n\u001b[1;32m     78\u001b[0m \u001b[38;5;124;03m    \u001b[39;00m\n\u001b[1;32m     79\u001b[0m \u001b[38;5;124;03m    \"\"\"\u001b[39;00m\n\u001b[0;32m---> 80\u001b[0m     \u001b[38;5;28;43mself\u001b[39;49m\u001b[38;5;241;43m.\u001b[39;49m\u001b[43mupdate_rosters\u001b[49m\u001b[43m(\u001b[49m\u001b[43m)\u001b[49m\n\u001b[1;32m     81\u001b[0m     \u001b[38;5;28mself\u001b[39m\u001b[38;5;241m.\u001b[39mteams \u001b[38;5;241m=\u001b[39m \u001b[38;5;28mlen\u001b[39m(\u001b[38;5;28mself\u001b[39m\u001b[38;5;241m.\u001b[39mteam_map)\n\u001b[1;32m     82\u001b[0m     \u001b[38;5;28mself\u001b[39m\u001b[38;5;241m.\u001b[39mmyteam \u001b[38;5;241m=\u001b[39m \u001b[38;5;28mlist\u001b[39m(\u001b[38;5;28mself\u001b[39m\u001b[38;5;241m.\u001b[39mteam_map\u001b[38;5;241m.\u001b[39mkeys())[\u001b[38;5;28mlist\u001b[39m(\u001b[38;5;28mself\u001b[39m\u001b[38;5;241m.\u001b[39mteam_map\u001b[38;5;241m.\u001b[39mvalues())\u001b[38;5;241m.\u001b[39mindex(\u001b[38;5;28mself\u001b[39m\u001b[38;5;241m.\u001b[39mteam_name)]\n",
      "File \u001b[0;32m~/Documents/GitHub/ffb_drafting/espn_scrape.py:115\u001b[0m, in \u001b[0;36mdraft_monitor.update_rosters\u001b[0;34m(self, specific_team)\u001b[0m\n\u001b[1;32m    113\u001b[0m \u001b[38;5;66;03m# Loop through all options and select each one\u001b[39;00m\n\u001b[1;32m    114\u001b[0m \u001b[38;5;28;01mfor\u001b[39;00m t \u001b[38;5;129;01min\u001b[39;00m teams:\n\u001b[0;32m--> 115\u001b[0m     \u001b[43mdropdown\u001b[49m\u001b[38;5;241;43m.\u001b[39;49m\u001b[43mselect_by_visible_text\u001b[49m\u001b[43m(\u001b[49m\u001b[43mt\u001b[49m\u001b[38;5;241;43m.\u001b[39;49m\u001b[43mtext\u001b[49m\u001b[43m)\u001b[49m\n\u001b[1;32m    117\u001b[0m \u001b[38;5;28;01mif\u001b[39;00m specific_team \u001b[38;5;129;01mis\u001b[39;00m \u001b[38;5;28;01mNone\u001b[39;00m:\n\u001b[1;32m    118\u001b[0m     \u001b[38;5;28;01mfor\u001b[39;00m i \u001b[38;5;129;01min\u001b[39;00m \u001b[38;5;28mrange\u001b[39m(\u001b[38;5;28mlen\u001b[39m(teams)):\n",
      "File \u001b[0;32m~/opt/anaconda3/lib/python3.9/site-packages/selenium/webdriver/support/select.py:137\u001b[0m, in \u001b[0;36mSelect.select_by_visible_text\u001b[0;34m(self, text)\u001b[0m\n\u001b[1;32m    134\u001b[0m             matched \u001b[38;5;241m=\u001b[39m \u001b[38;5;28;01mTrue\u001b[39;00m\n\u001b[1;32m    136\u001b[0m \u001b[38;5;28;01mif\u001b[39;00m \u001b[38;5;129;01mnot\u001b[39;00m matched:\n\u001b[0;32m--> 137\u001b[0m     \u001b[38;5;28;01mraise\u001b[39;00m NoSuchElementException(\u001b[38;5;124mf\u001b[39m\u001b[38;5;124m\"\u001b[39m\u001b[38;5;124mCould not locate element with visible text: \u001b[39m\u001b[38;5;132;01m{\u001b[39;00mtext\u001b[38;5;132;01m}\u001b[39;00m\u001b[38;5;124m\"\u001b[39m)\n",
      "\u001b[0;31mNoSuchElementException\u001b[0m: Message: Could not locate element with visible text: ANTHONY'S ASTOUNDING TEAM; For documentation on this error, please visit: https://www.selenium.dev/documentation/webdriver/troubleshooting/errors#no-such-element-exception\n"
     ]
    }
   ],
   "source": [
    "dm.configure_draft()"
   ]
  },
  {
   "cell_type": "code",
   "execution_count": 33,
   "metadata": {},
   "outputs": [
    {
     "ename": "NoSuchElementException",
     "evalue": "Message: Unable to locate element: //*[@id=\"cars\"]; For documentation on this error, please visit: https://www.selenium.dev/documentation/webdriver/troubleshooting/errors#no-such-element-exception\nStacktrace:\nRemoteError@chrome://remote/content/shared/RemoteError.sys.mjs:8:8\nWebDriverError@chrome://remote/content/shared/webdriver/Errors.sys.mjs:193:5\nNoSuchElementError@chrome://remote/content/shared/webdriver/Errors.sys.mjs:511:5\ndom.find/</<@chrome://remote/content/shared/DOM.sys.mjs:136:16\n",
     "output_type": "error",
     "traceback": [
      "\u001b[0;31m---------------------------------------------------------------------------\u001b[0m",
      "\u001b[0;31mNoSuchElementException\u001b[0m                    Traceback (most recent call last)",
      "Input \u001b[0;32mIn [33]\u001b[0m, in \u001b[0;36m<cell line: 6>\u001b[0;34m()\u001b[0m\n\u001b[1;32m      3\u001b[0m driver \u001b[38;5;241m=\u001b[39m  webdriver\u001b[38;5;241m.\u001b[39mFirefox()\n\u001b[1;32m      4\u001b[0m driver\u001b[38;5;241m.\u001b[39mget(\u001b[38;5;124m\"\u001b[39m\u001b[38;5;124mhttps://www.w3schools.com/tags/tryit.asp?filename=tryhtml_select\u001b[39m\u001b[38;5;124m\"\u001b[39m)\n\u001b[0;32m----> 6\u001b[0m dropdown_element \u001b[38;5;241m=\u001b[39m \u001b[43mdriver\u001b[49m\u001b[38;5;241;43m.\u001b[39;49m\u001b[43mfind_element\u001b[49m\u001b[43m(\u001b[49m\u001b[38;5;124;43m\"\u001b[39;49m\u001b[38;5;124;43mxpath\u001b[39;49m\u001b[38;5;124;43m\"\u001b[39;49m\u001b[43m,\u001b[49m\u001b[43m \u001b[49m\u001b[38;5;124;43m'\u001b[39;49m\u001b[38;5;124;43m//*[@id=\u001b[39;49m\u001b[38;5;124;43m\"\u001b[39;49m\u001b[38;5;124;43mcars\u001b[39;49m\u001b[38;5;124;43m\"\u001b[39;49m\u001b[38;5;124;43m]\u001b[39;49m\u001b[38;5;124;43m'\u001b[39;49m\u001b[43m)\u001b[49m\n\u001b[1;32m      8\u001b[0m \u001b[38;5;66;03m# Create a Select object\u001b[39;00m\n\u001b[1;32m      9\u001b[0m dropdown \u001b[38;5;241m=\u001b[39m Select(dropdown_element)\n",
      "File \u001b[0;32m~/opt/anaconda3/lib/python3.9/site-packages/selenium/webdriver/remote/webdriver.py:741\u001b[0m, in \u001b[0;36mWebDriver.find_element\u001b[0;34m(self, by, value)\u001b[0m\n\u001b[1;32m    738\u001b[0m     by \u001b[38;5;241m=\u001b[39m By\u001b[38;5;241m.\u001b[39mCSS_SELECTOR\n\u001b[1;32m    739\u001b[0m     value \u001b[38;5;241m=\u001b[39m \u001b[38;5;124mf\u001b[39m\u001b[38;5;124m'\u001b[39m\u001b[38;5;124m[name=\u001b[39m\u001b[38;5;124m\"\u001b[39m\u001b[38;5;132;01m{\u001b[39;00mvalue\u001b[38;5;132;01m}\u001b[39;00m\u001b[38;5;124m\"\u001b[39m\u001b[38;5;124m]\u001b[39m\u001b[38;5;124m'\u001b[39m\n\u001b[0;32m--> 741\u001b[0m \u001b[38;5;28;01mreturn\u001b[39;00m \u001b[38;5;28;43mself\u001b[39;49m\u001b[38;5;241;43m.\u001b[39;49m\u001b[43mexecute\u001b[49m\u001b[43m(\u001b[49m\u001b[43mCommand\u001b[49m\u001b[38;5;241;43m.\u001b[39;49m\u001b[43mFIND_ELEMENT\u001b[49m\u001b[43m,\u001b[49m\u001b[43m \u001b[49m\u001b[43m{\u001b[49m\u001b[38;5;124;43m\"\u001b[39;49m\u001b[38;5;124;43musing\u001b[39;49m\u001b[38;5;124;43m\"\u001b[39;49m\u001b[43m:\u001b[49m\u001b[43m \u001b[49m\u001b[43mby\u001b[49m\u001b[43m,\u001b[49m\u001b[43m \u001b[49m\u001b[38;5;124;43m\"\u001b[39;49m\u001b[38;5;124;43mvalue\u001b[39;49m\u001b[38;5;124;43m\"\u001b[39;49m\u001b[43m:\u001b[49m\u001b[43m \u001b[49m\u001b[43mvalue\u001b[49m\u001b[43m}\u001b[49m\u001b[43m)\u001b[49m[\u001b[38;5;124m\"\u001b[39m\u001b[38;5;124mvalue\u001b[39m\u001b[38;5;124m\"\u001b[39m]\n",
      "File \u001b[0;32m~/opt/anaconda3/lib/python3.9/site-packages/selenium/webdriver/remote/webdriver.py:347\u001b[0m, in \u001b[0;36mWebDriver.execute\u001b[0;34m(self, driver_command, params)\u001b[0m\n\u001b[1;32m    345\u001b[0m response \u001b[38;5;241m=\u001b[39m \u001b[38;5;28mself\u001b[39m\u001b[38;5;241m.\u001b[39mcommand_executor\u001b[38;5;241m.\u001b[39mexecute(driver_command, params)\n\u001b[1;32m    346\u001b[0m \u001b[38;5;28;01mif\u001b[39;00m response:\n\u001b[0;32m--> 347\u001b[0m     \u001b[38;5;28;43mself\u001b[39;49m\u001b[38;5;241;43m.\u001b[39;49m\u001b[43merror_handler\u001b[49m\u001b[38;5;241;43m.\u001b[39;49m\u001b[43mcheck_response\u001b[49m\u001b[43m(\u001b[49m\u001b[43mresponse\u001b[49m\u001b[43m)\u001b[49m\n\u001b[1;32m    348\u001b[0m     response[\u001b[38;5;124m\"\u001b[39m\u001b[38;5;124mvalue\u001b[39m\u001b[38;5;124m\"\u001b[39m] \u001b[38;5;241m=\u001b[39m \u001b[38;5;28mself\u001b[39m\u001b[38;5;241m.\u001b[39m_unwrap_value(response\u001b[38;5;241m.\u001b[39mget(\u001b[38;5;124m\"\u001b[39m\u001b[38;5;124mvalue\u001b[39m\u001b[38;5;124m\"\u001b[39m, \u001b[38;5;28;01mNone\u001b[39;00m))\n\u001b[1;32m    349\u001b[0m     \u001b[38;5;28;01mreturn\u001b[39;00m response\n",
      "File \u001b[0;32m~/opt/anaconda3/lib/python3.9/site-packages/selenium/webdriver/remote/errorhandler.py:229\u001b[0m, in \u001b[0;36mErrorHandler.check_response\u001b[0;34m(self, response)\u001b[0m\n\u001b[1;32m    227\u001b[0m         alert_text \u001b[38;5;241m=\u001b[39m value[\u001b[38;5;124m\"\u001b[39m\u001b[38;5;124malert\u001b[39m\u001b[38;5;124m\"\u001b[39m]\u001b[38;5;241m.\u001b[39mget(\u001b[38;5;124m\"\u001b[39m\u001b[38;5;124mtext\u001b[39m\u001b[38;5;124m\"\u001b[39m)\n\u001b[1;32m    228\u001b[0m     \u001b[38;5;28;01mraise\u001b[39;00m exception_class(message, screen, stacktrace, alert_text)  \u001b[38;5;66;03m# type: ignore[call-arg]  # mypy is not smart enough here\u001b[39;00m\n\u001b[0;32m--> 229\u001b[0m \u001b[38;5;28;01mraise\u001b[39;00m exception_class(message, screen, stacktrace)\n",
      "\u001b[0;31mNoSuchElementException\u001b[0m: Message: Unable to locate element: //*[@id=\"cars\"]; For documentation on this error, please visit: https://www.selenium.dev/documentation/webdriver/troubleshooting/errors#no-such-element-exception\nStacktrace:\nRemoteError@chrome://remote/content/shared/RemoteError.sys.mjs:8:8\nWebDriverError@chrome://remote/content/shared/webdriver/Errors.sys.mjs:193:5\nNoSuchElementError@chrome://remote/content/shared/webdriver/Errors.sys.mjs:511:5\ndom.find/</<@chrome://remote/content/shared/DOM.sys.mjs:136:16\n"
     ]
    }
   ],
   "source": [
    "from selenium import webdriver \n",
    "from selenium.webdriver.support.ui import Select\n",
    "driver =  webdriver.Firefox()\n",
    "driver.get(\"https://www.w3schools.com/tags/tryit.asp?filename=tryhtml_select\")\n",
    "\n",
    "dropdown_element = driver.find_element(\"xpath\", '//*[@id=\"cars\"]')\n",
    "\n",
    "# Create a Select object\n",
    "dropdown = Select(dropdown_element)\n",
    "teams = dropdown.options\n",
    "\n",
    "# Loop through all options and select each one\n",
    "for option in dropdown.options:\n",
    "    dropdown.select_by_visible_text(option.text)\n",
    "    print(option.text)"
   ]
  },
  {
   "cell_type": "code",
   "execution_count": 53,
   "metadata": {},
   "outputs": [],
   "source": [
    "driver =  webdriver.Firefox()\n",
    "driver.get(\"https://fantasy.espn.com/football/mockdraftlobby\")"
   ]
  },
  {
   "cell_type": "code",
   "execution_count": null,
   "metadata": {},
   "outputs": [],
   "source": [
    "return driver.find_element(\"xpath\", '//*[@id=\"news-feed\"]/section[1]/section/a/div/div[3]/h2').text"
   ]
  },
  {
   "cell_type": "code",
   "execution_count": 143,
   "metadata": {},
   "outputs": [
    {
     "name": "stdout",
     "output_type": "stream",
     "text": [
      "Jalen Hurts\n"
     ]
    }
   ],
   "source": [
    "from selenium.webdriver.common.by import By\n",
    "\n",
    "#<div class=\"jsx-2810852873 table--cell player-column\" title=\"Jalen Hurts\"><div class=\"player-column__content flex items-center\"><div class=\"flex flex-column\"><div class=\"player-link-container flex\"><span class=\"truncate\"><a class=\"AnchorLink link clr-link pointer\" tabindex=\"0\">J. Hurts</a></span><span style=\"margin-left: 5px;\"></span></div></div></div></div>"
   ]
  },
  {
   "cell_type": "code",
   "execution_count": 146,
   "metadata": {},
   "outputs": [
    {
     "name": "stdout",
     "output_type": "stream",
     "text": [
      "     TORYN'S TALENTED TEAM DOMINICK'S DARING TEAM AUSTIN'S ASTOUNDING TEAM  \\\n",
      "QB             Brock Purdy             Josh Allen           Justin Herbert   \n",
      "RB     Christian McCaffrey            Breece Hall             Alvin Kamara   \n",
      "RB             Josh Jacobs             James Cook            De'Von Achane   \n",
      "WR           Davante Adams             Puka Nacua              CeeDee Lamb   \n",
      "WR       Amon-Ra St. Brown         Garrett Wilson              Chris Olave   \n",
      "TE             Evan Engram            David Njoku             Mark Andrews   \n",
      "FLEX              DJ Moore           Drake London         Deebo Samuel Sr.   \n",
      "D/ST           Browns D/ST              Jets D/ST             Cowboys D/ST   \n",
      "K            Justin Tucker         Evan McPherson             Younghoe Koo   \n",
      "BE            Amari Cooper    Michael Pittman Jr.              Tee Higgins   \n",
      "BE     Rhamondre Stevenson           Malik Nabers             Keenan Allen   \n",
      "BE              Kyle Pitts              Zack Moss          DeAndre Hopkins   \n",
      "BE              Nick Chubb           Kyler Murray           Jordan Addison   \n",
      "BE          Raheem Mostert          Mike Williams             James Conner   \n",
      "BE             Rome Odunze         Christian Kirk            Austin Ekeler   \n",
      "BE            Jaguars D/ST            Gus Edwards            Tyler Lockett   \n",
      "\n",
      "     KRISTIAN'S TOP-NOTCH TEAM LAWRENCE'S LOUD TEAM    JOHN'S SCARY TEAM  \\\n",
      "QB                 Jordan Love           Joe Burrow      Patrick Mahomes   \n",
      "RB          Travis Etienne Jr.       Bijan Robinson         Jahmyr Gibbs   \n",
      "RB          Kenneth Walker III       Saquon Barkley        Derrick Henry   \n",
      "WR                 Tyreek Hill           DK Metcalf     Justin Jefferson   \n",
      "WR                Stefon Diggs        Calvin Ridley        Brandon Aiyuk   \n",
      "TE                Travis Kelce          Sam LaPorta         Trey McBride   \n",
      "FLEX               Cooper Kupp        Isiah Pacheco  Marvin Harrison Jr.   \n",
      "D/ST                49ers D/ST        Dolphins D/ST         Bengals D/ST   \n",
      "K             Ka'imi Fairbairn        Greg Zuerlein         Jake Elliott   \n",
      "BE                Tony Pollard        Jaylen Waddle        DeVonta Smith   \n",
      "BE              George Pickens   Anthony Richardson         Chris Godwin   \n",
      "BE            David Montgomery         Najee Harris        D'Andre Swift   \n",
      "BE            Christian Watson          Zamir White      Diontae Johnson   \n",
      "BE            Javonte Williams         Brock Bowers       Dalton Kincaid   \n",
      "BE            Courtland Sutton        Xavier Worthy       Marquise Brown   \n",
      "BE              Tua Tagovailoa         Tyjae Spears     Devin Singletary   \n",
      "\n",
      "     ZACHARY'S HONORABLE TEAM   BUTCH'S BEST TEAM  \n",
      "QB              Lamar Jackson         Jalen Hurts  \n",
      "RB             Kyren Williams     Jonathan Taylor  \n",
      "RB                  Joe Mixon       Rachaad White  \n",
      "WR              Ja'Marr Chase          A.J. Brown  \n",
      "WR                 Mike Evans           Tank Dell  \n",
      "TE              George Kittle      Dallas Goedert  \n",
      "FLEX             Nico Collins         Rashee Rice  \n",
      "D/ST              Ravens D/ST       Steelers D/ST  \n",
      "K              Brandon Aubrey     Harrison Butker  \n",
      "BE                Zay Flowers         C.J. Stroud  \n",
      "BE              Jake Ferguson         Aaron Jones  \n",
      "BE               Dak Prescott     Jonathon Brooks  \n",
      "BE             Terry McLaurin  Brian Robinson Jr.  \n",
      "BE              Aaron Rodgers         Blake Corum  \n",
      "BE                Jayden Reed      Dalton Schultz  \n",
      "BE              Jaylen Warren    Jameson Williams  \n"
     ]
    }
   ],
   "source": [
    "dropdown_element = driver.find_element(\"xpath\", '/html/body/div[1]/div[1]/section/div/div[2]/main/div/div/div[3]/div[1]/div[1]/div[2]/div[1]/div/select')\n",
    "actions = ActionChains(driver)\n",
    "\n",
    "# Create a Select object\n",
    "dropdown = Select(dropdown_element)\n",
    "teams = dropdown.options\n",
    "table = driver.find_element(\"xpath\", \"/html/body/div[1]/div[1]/section/div/div[2]/main/div/div/div[3]/div[1]/div[1]/div[2]/div[2]/div/div/div/div/div[2]/table\")\n",
    "roster_size = len(table.find_elements(\"tag name\", \"tr\"))-1\n",
    "# roster is df where column names are team names and rows are roster requirements\n",
    "positions = []\n",
    "bench_num = 0\n",
    "roster = pd.DataFrame()\n",
    "for i in range(len(teams)):\n",
    "    dropdown.select_by_index(i)\n",
    "    team_df = pd.DataFrame(columns=[\"Player\",\"Position\"])\n",
    "    for j in range(1,roster_size+1):\n",
    "            team_ele = driver.find_element(\"xpath\",\"/html/body/div[1]/div[1]/section/div/div[2]/main/div/div/div[3]/div[1]/div[1]/div[2]/div[2]/div/div/div/div/div[2]/table/tbody/tr[{}]\".format(j))\n",
    "            # get the second time it says (\"tag name\",\"td\") \n",
    "            try:\n",
    "                element = driver.find_elements(By.CSS_SELECTOR, \".jsx-2810852873.table--cell.player-column\")[j]\n",
    "                player = element.get_attribute(\"title\")\n",
    "            except:\n",
    "                player = \"Empty\"\n",
    "            position_ele = team_ele.find_element(\"tag name\",\"td\")\n",
    "            team_df.loc[j] = [player,position_ele.text]\n",
    "            if i == 0:\n",
    "              positions.append(position_ele.text)\n",
    "    roster[teams[i].text] = team_df[\"Player\"]\n",
    "# make positions index\n",
    "roster.index = positions\n",
    "print(roster)"
   ]
  },
  {
   "cell_type": "code",
   "execution_count": 147,
   "metadata": {},
   "outputs": [],
   "source": [
    "# write to csv\n",
    "roster.to_csv(\"roster.csv\")"
   ]
  },
  {
   "cell_type": "code",
   "execution_count": null,
   "metadata": {},
   "outputs": [],
   "source": []
  }
 ],
 "metadata": {
  "kernelspec": {
   "display_name": "Python 3",
   "language": "python",
   "name": "python3"
  },
  "language_info": {
   "codemirror_mode": {
    "name": "ipython",
    "version": 3
   },
   "file_extension": ".py",
   "mimetype": "text/x-python",
   "name": "python",
   "nbconvert_exporter": "python",
   "pygments_lexer": "ipython3",
   "version": "3.9.12"
  }
 },
 "nbformat": 4,
 "nbformat_minor": 2
}
